{
  "metadata": {
    "kernelspec": {
      "name": "python",
      "display_name": "Python (Pyodide)",
      "language": "python"
    },
    "language_info": {
      "codemirror_mode": {
        "name": "python",
        "version": 3
      },
      "file_extension": ".py",
      "mimetype": "text/x-python",
      "name": "python",
      "nbconvert_exporter": "python",
      "pygments_lexer": "ipython3",
      "version": "3.8"
    },
    "varInspector": {
      "cols": {
        "lenName": 16,
        "lenType": 16,
        "lenVar": 40
      },
      "kernels_config": {
        "python": {
          "delete_cmd_postfix": "",
          "delete_cmd_prefix": "del ",
          "library": "var_list.py",
          "varRefreshCmd": "print(var_dic_list())"
        },
        "r": {
          "delete_cmd_postfix": ") ",
          "delete_cmd_prefix": "rm(",
          "library": "var_list.r",
          "varRefreshCmd": "cat(var_dic_list()) "
        }
      },
      "types_to_exclude": [
        "module",
        "function",
        "builtin_function_or_method",
        "instance",
        "_Feature"
      ],
      "window_display": true
    }
  },
  "nbformat_minor": 4,
  "nbformat": 4,
  "cells": [
    {
      "cell_type": "code",
      "source": "import piplite\nimport micropip\nawait micropip.install('Pillow-8.3.2-cp39-cp39-manylinux_2_5_x86_64.manylinux1_x86_64.whl', keep_going=True)",
      "metadata": {
        "trusted": true
      },
      "execution_count": 848,
      "outputs": [
        {
          "ename": "<class 'AttributeError'>",
          "evalue": "module 'pyodide' has no attribute 'loadPackage'",
          "traceback": [
            "\u001b[0;31m---------------------------------------------------------------------------\u001b[0m",
            "\u001b[0;31mAttributeError\u001b[0m                            Traceback (most recent call last)",
            "Cell \u001b[0;32mIn[866], line 3\u001b[0m\n\u001b[1;32m      1\u001b[0m \u001b[38;5;28;01mimport\u001b[39;00m \u001b[38;5;21;01mpiplite\u001b[39;00m\n\u001b[1;32m      2\u001b[0m \u001b[38;5;28;01mimport\u001b[39;00m \u001b[38;5;21;01mmicropip\u001b[39;00m\n\u001b[0;32m----> 3\u001b[0m \u001b[43mpyodide\u001b[49m\u001b[38;5;241;43m.\u001b[39;49m\u001b[43mloadPackage\u001b[49m([\u001b[38;5;124m'\u001b[39m\u001b[38;5;124mreportlab\u001b[39m\u001b[38;5;124m'\u001b[39m])\n\u001b[1;32m      4\u001b[0m \u001b[38;5;66;03m#await micropip.install('Pillow-8.3.2-cp39-cp39-manylinux_2_5_x86_64.manylinux1_x86_64.whl', keep_going=True)\u001b[39;00m\n",
            "File \u001b[0;32m/lib/python3.10/site-packages/pyodide/__init__.py:82\u001b[0m, in \u001b[0;36m__getattr__\u001b[0;34m(name)\u001b[0m\n\u001b[1;32m     80\u001b[0m     \u001b[38;5;28mglobals\u001b[39m()[name] \u001b[38;5;241m=\u001b[39m \u001b[38;5;28mglobals\u001b[39m()[\u001b[38;5;124mf\u001b[39m\u001b[38;5;124m\"\u001b[39m\u001b[38;5;124m_deprecated_\u001b[39m\u001b[38;5;132;01m{\u001b[39;00mname\u001b[38;5;132;01m}\u001b[39;00m\u001b[38;5;124m\"\u001b[39m]\n\u001b[1;32m     81\u001b[0m     \u001b[38;5;28;01mreturn\u001b[39;00m \u001b[38;5;28mglobals\u001b[39m()[name]\n\u001b[0;32m---> 82\u001b[0m \u001b[38;5;28;01mraise\u001b[39;00m \u001b[38;5;167;01mAttributeError\u001b[39;00m(\u001b[38;5;124mf\u001b[39m\u001b[38;5;124m\"\u001b[39m\u001b[38;5;124mmodule \u001b[39m\u001b[38;5;132;01m{\u001b[39;00m\u001b[38;5;18m__name__\u001b[39m\u001b[38;5;132;01m!r}\u001b[39;00m\u001b[38;5;124m has no attribute \u001b[39m\u001b[38;5;132;01m{\u001b[39;00mname\u001b[38;5;132;01m!r}\u001b[39;00m\u001b[38;5;124m\"\u001b[39m)\n",
            "\u001b[0;31mAttributeError\u001b[0m: module 'pyodide' has no attribute 'loadPackage'"
          ],
          "output_type": "error"
        }
      ]
    },
    {
      "cell_type": "markdown",
      "source": "import os\nos._exit(00)",
      "metadata": {}
    },
    {
      "cell_type": "code",
      "source": "import csv\nimport getopt\nimport os\nfrom reportlab.graphics.barcode import code128\nfrom reportlab.lib.pagesizes import landscape,letter\nfrom reportlab.lib.units import mm\nfrom reportlab.pdfgen import canvas\nimport sys",
      "metadata": {
        "trusted": true
      },
      "execution_count": 849,
      "outputs": [
        {
          "ename": "<class 'ModuleNotFoundError'>",
          "evalue": "No module named 'reportlab'",
          "traceback": [
            "\u001b[0;31m---------------------------------------------------------------------------\u001b[0m",
            "\u001b[0;31mModuleNotFoundError\u001b[0m                       Traceback (most recent call last)",
            "Cell \u001b[0;32mIn[867], line 4\u001b[0m\n\u001b[1;32m      2\u001b[0m \u001b[38;5;28;01mimport\u001b[39;00m \u001b[38;5;21;01mgetopt\u001b[39;00m\n\u001b[1;32m      3\u001b[0m \u001b[38;5;28;01mimport\u001b[39;00m \u001b[38;5;21;01mos\u001b[39;00m\n\u001b[0;32m----> 4\u001b[0m \u001b[38;5;28;01mfrom\u001b[39;00m \u001b[38;5;21;01mreportlab\u001b[39;00m\u001b[38;5;21;01m.\u001b[39;00m\u001b[38;5;21;01mgraphics\u001b[39;00m\u001b[38;5;21;01m.\u001b[39;00m\u001b[38;5;21;01mbarcode\u001b[39;00m \u001b[38;5;28;01mimport\u001b[39;00m code128\n\u001b[1;32m      5\u001b[0m \u001b[38;5;28;01mfrom\u001b[39;00m \u001b[38;5;21;01mreportlab\u001b[39;00m\u001b[38;5;21;01m.\u001b[39;00m\u001b[38;5;21;01mlib\u001b[39;00m\u001b[38;5;21;01m.\u001b[39;00m\u001b[38;5;21;01mpagesizes\u001b[39;00m \u001b[38;5;28;01mimport\u001b[39;00m landscape,letter\n\u001b[1;32m      6\u001b[0m \u001b[38;5;28;01mfrom\u001b[39;00m \u001b[38;5;21;01mreportlab\u001b[39;00m\u001b[38;5;21;01m.\u001b[39;00m\u001b[38;5;21;01mlib\u001b[39;00m\u001b[38;5;21;01m.\u001b[39;00m\u001b[38;5;21;01munits\u001b[39;00m \u001b[38;5;28;01mimport\u001b[39;00m mm\n",
            "\u001b[0;31mModuleNotFoundError\u001b[0m: No module named 'reportlab'"
          ],
          "output_type": "error"
        }
      ]
    },
    {
      "cell_type": "code",
      "source": "cwd = os.getcwd()",
      "metadata": {
        "trusted": true
      },
      "execution_count": 850,
      "outputs": []
    },
    {
      "cell_type": "code",
      "source": "def divide_chunks(l, n):\n    for i in range(0, len(l), n):\n        yield l[i:i + n]",
      "metadata": {
        "trusted": true
      },
      "execution_count": 851,
      "outputs": []
    },
    {
      "cell_type": "code",
      "source": "CODES_PER_PAGE = 30",
      "metadata": {
        "trusted": true
      },
      "execution_count": 852,
      "outputs": []
    },
    {
      "cell_type": "code",
      "source": "args = list()\ncodes = list()",
      "metadata": {
        "trusted": true
      },
      "execution_count": 853,
      "outputs": []
    },
    {
      "cell_type": "code",
      "source": "#Remove hash (#) from desired type; leave # in front of all others\n#input_type = 'csv15' # <--- read a csv with ENPH MI SNs in 15 Digit \"SunPower\" Format i.e. E00122029060501\n#input_type = 'csv12' # <--- read a csv with ENPH MI SNs in 12 Digit \"OEM\" Format i.e. 122029060501\ninput_type = 'list12' # <--- read a copy & paste list with ENPH MI SNs in 12 Digit \"OEM\" Format i.e. 122029060501",
      "metadata": {
        "trusted": true
      },
      "execution_count": 854,
      "outputs": []
    },
    {
      "cell_type": "code",
      "source": "#Upload List to Notebook - Click ^ (up arrow) in left panel\n#Enter Filename below\ncsvfile00 = 'bc.csv'  ## <-------filename of csv file with header/Row1 = \"serialNumber\"\ncsvfile1 = os.path.join(cwd,csvfile00)",
      "metadata": {
        "trusted": true
      },
      "execution_count": 855,
      "outputs": []
    },
    {
      "cell_type": "code",
      "source": "#Clear list of SNs between [ and ]\n#Enter SNs with comma following SN on each line BUT NOT FINAL SN\nlist0 = [\n'122212069524',\n'122212071900',\n'122212076575',\n'122209053576',\n'122209058307',\n'122209058147',\n'122208029344',\n'122208032610',\n'122208021524',\n'122208023131',\n'122208029507',\n'122208028506',\n'122208021159',\n'122208021070',\n'122208029664',\n'122208030206',\n'122208023793',\n'122209058865',\n'122209053734',\n'122209058079',\n'122209053616',\n'122209041378',\n'122209055452',\n'122209052475',\n'122209049858',\n'122209058864',\n'122209058390',\n'122209055834',\n'122212070914',\n'122212069788',\n'122214021644',\n'122214022993',\n'122214031729',\n'122214031542',\n'122214032372',\n'122214021512',\n'122214022982',\n'122214023016',\n'122214022026',\n'122214028082',\n'122212073028',\n'122212077336',\n'122214025357',\n'122214029801',\n'122214029816',\n'122214029903',\n'122214028150',\n'122214032644',\n'122214028207',\n'122214029229',\n'122214027054',\n'122214032400',\n'122214068679',\n'122214029893',\n'122214032643'\n]",
      "metadata": {
        "trusted": true
      },
      "execution_count": 856,
      "outputs": []
    },
    {
      "cell_type": "code",
      "source": "list00 = [str(x) for x in list0]",
      "metadata": {
        "trusted": true
      },
      "execution_count": 857,
      "outputs": []
    },
    {
      "cell_type": "code",
      "source": "output_file = 'barcodes.pdf'\noutput_file = os.path.join(cwd,output_file)",
      "metadata": {
        "trusted": true
      },
      "execution_count": 858,
      "outputs": []
    },
    {
      "cell_type": "code",
      "source": "if (input_type.lower() == 'csv15'):\n        with open(csvfile1, newline='') as csvfile2:\n            code_reader = csv.DictReader(csvfile2)\n            for row in code_reader:\n                codes.append(row['serialNumber'][3:])\nelif (input_type.lower() == 'csv12'):\n        with open(csvfile1, newline='') as csvfile2:\n            code_reader = csv.DictReader(csvfile2)\n            for row in code_reader:\n                codes.append(row['serialNumber'])\n    # Create list from args\nelif (input_type.lower() == 'list12'):\n        for code in list00:\n            # TODO: Do SN regex checking\n            codes.append(code)\n    # Didn't recognize input type argument\nelse:\n        raise ValueError('Input type not supported')",
      "metadata": {
        "trusted": true
      },
      "execution_count": 859,
      "outputs": []
    },
    {
      "cell_type": "code",
      "source": "codes",
      "metadata": {
        "trusted": true
      },
      "execution_count": 860,
      "outputs": [
        {
          "execution_count": 878,
          "output_type": "execute_result",
          "data": {
            "text/plain": "['122212069524',\n '122212071900',\n '122212076575',\n '122209053576',\n '122209058307',\n '122209058147',\n '122208029344',\n '122208032610',\n '122208021524',\n '122208023131',\n '122208029507',\n '122208028506',\n '122208021159',\n '122208021070',\n '122208029664',\n '122208030206',\n '122208023793',\n '122209058865',\n '122209053734',\n '122209058079',\n '122209053616',\n '122209041378',\n '122209055452',\n '122209052475',\n '122209049858',\n '122209058864',\n '122209058390',\n '122209055834',\n '122212070914',\n '122212069788',\n '122214021644',\n '122214022993',\n '122214031729',\n '122214031542',\n '122214032372',\n '122214021512',\n '122214022982',\n '122214023016',\n '122214022026',\n '122214028082',\n '122212073028',\n '122212077336',\n '122214025357',\n '122214029801',\n '122214029816',\n '122214029903',\n '122214028150',\n '122214032644',\n '122214028207',\n '122214029229',\n '122214027054',\n '122214032400',\n '122214068679',\n '122214029893',\n '122214032643']"
          },
          "metadata": {}
        }
      ]
    },
    {
      "cell_type": "code",
      "source": " code_list = list(divide_chunks(codes, CODES_PER_PAGE))",
      "metadata": {
        "trusted": true
      },
      "execution_count": 861,
      "outputs": []
    },
    {
      "cell_type": "code",
      "source": "code_list",
      "metadata": {
        "trusted": true
      },
      "execution_count": 862,
      "outputs": [
        {
          "execution_count": 880,
          "output_type": "execute_result",
          "data": {
            "text/plain": "[['122212069524',\n  '122212071900',\n  '122212076575',\n  '122209053576',\n  '122209058307',\n  '122209058147',\n  '122208029344',\n  '122208032610',\n  '122208021524',\n  '122208023131',\n  '122208029507',\n  '122208028506',\n  '122208021159',\n  '122208021070',\n  '122208029664',\n  '122208030206',\n  '122208023793',\n  '122209058865',\n  '122209053734',\n  '122209058079',\n  '122209053616',\n  '122209041378',\n  '122209055452',\n  '122209052475',\n  '122209049858',\n  '122209058864',\n  '122209058390',\n  '122209055834',\n  '122212070914',\n  '122212069788'],\n ['122214021644',\n  '122214022993',\n  '122214031729',\n  '122214031542',\n  '122214032372',\n  '122214021512',\n  '122214022982',\n  '122214023016',\n  '122214022026',\n  '122214028082',\n  '122212073028',\n  '122212077336',\n  '122214025357',\n  '122214029801',\n  '122214029816',\n  '122214029903',\n  '122214028150',\n  '122214032644',\n  '122214028207',\n  '122214029229',\n  '122214027054',\n  '122214032400',\n  '122214068679',\n  '122214029893',\n  '122214032643']]"
          },
          "metadata": {}
        }
      ]
    },
    {
      "cell_type": "code",
      "source": "c = canvas.Canvas(output_file, pagesize=landscape(letter))",
      "metadata": {
        "trusted": true
      },
      "execution_count": 863,
      "outputs": [
        {
          "ename": "<class 'NameError'>",
          "evalue": "name 'canvas' is not defined",
          "traceback": [
            "\u001b[0;31m---------------------------------------------------------------------------\u001b[0m",
            "\u001b[0;31mNameError\u001b[0m                                 Traceback (most recent call last)",
            "Cell \u001b[0;32mIn[881], line 1\u001b[0m\n\u001b[0;32m----> 1\u001b[0m c \u001b[38;5;241m=\u001b[39m \u001b[43mcanvas\u001b[49m\u001b[38;5;241m.\u001b[39mCanvas(output_file, pagesize\u001b[38;5;241m=\u001b[39mlandscape(letter))\n",
            "\u001b[0;31mNameError\u001b[0m: name 'canvas' is not defined"
          ],
          "output_type": "error"
        }
      ]
    },
    {
      "cell_type": "code",
      "source": "    for page_num, codes in enumerate(code_list):\n        if page_num != 0:\n            c.showPage() # Go to next page\n\n        x = 2 * mm\n        y = 195 * mm\n        for idx, barcode_value in enumerate(codes):\n            print('Adding ' + barcode_value)\n\n            # Generate and draw barcode\n            code = code128.Code128(value = barcode_value, barWidth = 2)\n            code.drawOn(c, x, y)\n\n            # Draw barcode value below it\n            c.drawCentredString(x + code.width/2, y-10, str(barcode_value))\n\n            # Adjust coordinates for next barcode\n            y = y - 20 * mm\n            if (idx+1) % 10 == 0:\n                x = x + 95 * mm\n                y = 195 * mm",
      "metadata": {
        "trusted": true
      },
      "execution_count": 864,
      "outputs": [
        {
          "ename": "<class 'NameError'>",
          "evalue": "name 'mm' is not defined",
          "traceback": [
            "\u001b[0;31m---------------------------------------------------------------------------\u001b[0m",
            "\u001b[0;31mNameError\u001b[0m                                 Traceback (most recent call last)",
            "Cell \u001b[0;32mIn[882], line 5\u001b[0m\n\u001b[1;32m      2\u001b[0m \u001b[38;5;28;01mif\u001b[39;00m page_num \u001b[38;5;241m!=\u001b[39m \u001b[38;5;241m0\u001b[39m:\n\u001b[1;32m      3\u001b[0m     c\u001b[38;5;241m.\u001b[39mshowPage() \u001b[38;5;66;03m# Go to next page\u001b[39;00m\n\u001b[0;32m----> 5\u001b[0m x \u001b[38;5;241m=\u001b[39m \u001b[38;5;241m2\u001b[39m \u001b[38;5;241m*\u001b[39m \u001b[43mmm\u001b[49m\n\u001b[1;32m      6\u001b[0m y \u001b[38;5;241m=\u001b[39m \u001b[38;5;241m195\u001b[39m \u001b[38;5;241m*\u001b[39m mm\n\u001b[1;32m      7\u001b[0m \u001b[38;5;28;01mfor\u001b[39;00m idx, barcode_value \u001b[38;5;129;01min\u001b[39;00m \u001b[38;5;28menumerate\u001b[39m(codes):\n",
            "\u001b[0;31mNameError\u001b[0m: name 'mm' is not defined"
          ],
          "output_type": "error"
        }
      ]
    },
    {
      "cell_type": "code",
      "source": "c.save()",
      "metadata": {
        "trusted": true
      },
      "execution_count": 865,
      "outputs": [
        {
          "ename": "<class 'NameError'>",
          "evalue": "name 'c' is not defined",
          "traceback": [
            "\u001b[0;31m---------------------------------------------------------------------------\u001b[0m",
            "\u001b[0;31mNameError\u001b[0m                                 Traceback (most recent call last)",
            "Cell \u001b[0;32mIn[883], line 1\u001b[0m\n\u001b[0;32m----> 1\u001b[0m \u001b[43mc\u001b[49m\u001b[38;5;241m.\u001b[39msave()\n",
            "\u001b[0;31mNameError\u001b[0m: name 'c' is not defined"
          ],
          "output_type": "error"
        }
      ]
    }
  ]
}